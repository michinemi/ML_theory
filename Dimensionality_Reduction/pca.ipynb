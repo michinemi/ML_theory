{
 "cells": [
  {
   "cell_type": "code",
   "execution_count": 1,
   "metadata": {},
   "outputs": [],
   "source": [
    "import pandas as pd\n",
    "import numpy as np\n",
    "import random as rd\n",
    "from sklearn.decomposition import PCA\n",
    "from sklearn import preprocessing\n",
    "import matplotlib.pyplot as plt"
   ]
  },
  {
   "cell_type": "code",
   "execution_count": 2,
   "metadata": {},
   "outputs": [
    {
     "data": {
      "text/html": [
       "<div>\n",
       "<style scoped>\n",
       "    .dataframe tbody tr th:only-of-type {\n",
       "        vertical-align: middle;\n",
       "    }\n",
       "\n",
       "    .dataframe tbody tr th {\n",
       "        vertical-align: top;\n",
       "    }\n",
       "\n",
       "    .dataframe thead th {\n",
       "        text-align: right;\n",
       "    }\n",
       "</style>\n",
       "<table border=\"1\" class=\"dataframe\">\n",
       "  <thead>\n",
       "    <tr style=\"text-align: right;\">\n",
       "      <th></th>\n",
       "      <th>wt1</th>\n",
       "      <th>wt2</th>\n",
       "      <th>wt3</th>\n",
       "      <th>wt4</th>\n",
       "      <th>wt5</th>\n",
       "      <th>ko1</th>\n",
       "      <th>ko2</th>\n",
       "      <th>ko3</th>\n",
       "      <th>ko4</th>\n",
       "      <th>ko5</th>\n",
       "    </tr>\n",
       "  </thead>\n",
       "  <tbody>\n",
       "    <tr>\n",
       "      <th>gene1</th>\n",
       "      <td>315</td>\n",
       "      <td>336</td>\n",
       "      <td>323</td>\n",
       "      <td>308</td>\n",
       "      <td>269</td>\n",
       "      <td>981</td>\n",
       "      <td>970</td>\n",
       "      <td>1008</td>\n",
       "      <td>1031</td>\n",
       "      <td>955</td>\n",
       "    </tr>\n",
       "    <tr>\n",
       "      <th>gene2</th>\n",
       "      <td>905</td>\n",
       "      <td>896</td>\n",
       "      <td>891</td>\n",
       "      <td>868</td>\n",
       "      <td>922</td>\n",
       "      <td>954</td>\n",
       "      <td>1011</td>\n",
       "      <td>1018</td>\n",
       "      <td>963</td>\n",
       "      <td>1006</td>\n",
       "    </tr>\n",
       "    <tr>\n",
       "      <th>gene3</th>\n",
       "      <td>416</td>\n",
       "      <td>432</td>\n",
       "      <td>448</td>\n",
       "      <td>420</td>\n",
       "      <td>385</td>\n",
       "      <td>184</td>\n",
       "      <td>193</td>\n",
       "      <td>191</td>\n",
       "      <td>199</td>\n",
       "      <td>183</td>\n",
       "    </tr>\n",
       "    <tr>\n",
       "      <th>gene4</th>\n",
       "      <td>892</td>\n",
       "      <td>826</td>\n",
       "      <td>894</td>\n",
       "      <td>877</td>\n",
       "      <td>892</td>\n",
       "      <td>383</td>\n",
       "      <td>415</td>\n",
       "      <td>433</td>\n",
       "      <td>408</td>\n",
       "      <td>408</td>\n",
       "    </tr>\n",
       "    <tr>\n",
       "      <th>gene5</th>\n",
       "      <td>996</td>\n",
       "      <td>973</td>\n",
       "      <td>982</td>\n",
       "      <td>973</td>\n",
       "      <td>930</td>\n",
       "      <td>295</td>\n",
       "      <td>298</td>\n",
       "      <td>307</td>\n",
       "      <td>272</td>\n",
       "      <td>316</td>\n",
       "    </tr>\n",
       "    <tr>\n",
       "      <th>...</th>\n",
       "      <td>...</td>\n",
       "      <td>...</td>\n",
       "      <td>...</td>\n",
       "      <td>...</td>\n",
       "      <td>...</td>\n",
       "      <td>...</td>\n",
       "      <td>...</td>\n",
       "      <td>...</td>\n",
       "      <td>...</td>\n",
       "      <td>...</td>\n",
       "    </tr>\n",
       "    <tr>\n",
       "      <th>gene96</th>\n",
       "      <td>310</td>\n",
       "      <td>281</td>\n",
       "      <td>267</td>\n",
       "      <td>282</td>\n",
       "      <td>287</td>\n",
       "      <td>304</td>\n",
       "      <td>295</td>\n",
       "      <td>325</td>\n",
       "      <td>298</td>\n",
       "      <td>290</td>\n",
       "    </tr>\n",
       "    <tr>\n",
       "      <th>gene97</th>\n",
       "      <td>261</td>\n",
       "      <td>238</td>\n",
       "      <td>219</td>\n",
       "      <td>242</td>\n",
       "      <td>228</td>\n",
       "      <td>842</td>\n",
       "      <td>818</td>\n",
       "      <td>863</td>\n",
       "      <td>856</td>\n",
       "      <td>840</td>\n",
       "    </tr>\n",
       "    <tr>\n",
       "      <th>gene98</th>\n",
       "      <td>47</td>\n",
       "      <td>46</td>\n",
       "      <td>52</td>\n",
       "      <td>36</td>\n",
       "      <td>40</td>\n",
       "      <td>200</td>\n",
       "      <td>234</td>\n",
       "      <td>213</td>\n",
       "      <td>220</td>\n",
       "      <td>192</td>\n",
       "    </tr>\n",
       "    <tr>\n",
       "      <th>gene99</th>\n",
       "      <td>713</td>\n",
       "      <td>688</td>\n",
       "      <td>657</td>\n",
       "      <td>650</td>\n",
       "      <td>682</td>\n",
       "      <td>593</td>\n",
       "      <td>617</td>\n",
       "      <td>661</td>\n",
       "      <td>672</td>\n",
       "      <td>648</td>\n",
       "    </tr>\n",
       "    <tr>\n",
       "      <th>gene100</th>\n",
       "      <td>955</td>\n",
       "      <td>945</td>\n",
       "      <td>932</td>\n",
       "      <td>937</td>\n",
       "      <td>947</td>\n",
       "      <td>584</td>\n",
       "      <td>598</td>\n",
       "      <td>603</td>\n",
       "      <td>575</td>\n",
       "      <td>594</td>\n",
       "    </tr>\n",
       "  </tbody>\n",
       "</table>\n",
       "<p>100 rows × 10 columns</p>\n",
       "</div>"
      ],
      "text/plain": [
       "         wt1  wt2  wt3  wt4  wt5  ko1   ko2   ko3   ko4   ko5\n",
       "gene1    315  336  323  308  269  981   970  1008  1031   955\n",
       "gene2    905  896  891  868  922  954  1011  1018   963  1006\n",
       "gene3    416  432  448  420  385  184   193   191   199   183\n",
       "gene4    892  826  894  877  892  383   415   433   408   408\n",
       "gene5    996  973  982  973  930  295   298   307   272   316\n",
       "...      ...  ...  ...  ...  ...  ...   ...   ...   ...   ...\n",
       "gene96   310  281  267  282  287  304   295   325   298   290\n",
       "gene97   261  238  219  242  228  842   818   863   856   840\n",
       "gene98    47   46   52   36   40  200   234   213   220   192\n",
       "gene99   713  688  657  650  682  593   617   661   672   648\n",
       "gene100  955  945  932  937  947  584   598   603   575   594\n",
       "\n",
       "[100 rows x 10 columns]"
      ]
     },
     "execution_count": 2,
     "metadata": {},
     "output_type": "execute_result"
    }
   ],
   "source": [
    "# Generate a sample dataset\n",
    "# genes\n",
    "genes = ['gene' + str(i) for i in range(1,101)]\n",
    "wt = ['wt' + str(i) for i in range(1,6)]\n",
    "ko = ['ko' + str(i) for i in range(1,6)]\n",
    "data = pd.DataFrame(columns=[*wt, *ko], index=genes)\n",
    "\n",
    "for gene in data.index:\n",
    "    data.loc[gene, 'wt1':'wt5'] = np.random.poisson(lam=rd.randrange(10,1000), size=5)\n",
    "    data.loc[gene, 'ko1':'ko5'] = np.random.poisson(lam=rd.randrange(10,1000), size=5)\n",
    "\n",
    "data"
   ]
  },
  {
   "cell_type": "code",
   "execution_count": 3,
   "metadata": {},
   "outputs": [],
   "source": [
    "# Preprocess data\n",
    "scaled_data = preprocessing.scale(data.T)\n",
    "# OR StandardScaler().fit_transform(data.T)"
   ]
  },
  {
   "cell_type": "code",
   "execution_count": 4,
   "metadata": {},
   "outputs": [],
   "source": [
    "# Create a PCA object\n",
    "pca = PCA()\n",
    "\n",
    "# This is where we do all the PCA math (calculate loading scores and the variation each PC accounts for)\n",
    "pca.fit(scaled_data)\n",
    "\n",
    "# This is where we generate coordinates for a PCA graph based on the loading scores and the scaled data\n",
    "pca_data = pca.transform(scaled_data)"
   ]
  },
  {
   "cell_type": "code",
   "execution_count": 5,
   "metadata": {},
   "outputs": [
    {
     "data": {
      "text/plain": [
       "<function matplotlib.pyplot.show(close=None, block=None)>"
      ]
     },
     "execution_count": 5,
     "metadata": {},
     "output_type": "execute_result"
    },
    {
     "data": {
      "image/png": "[encoded data removed]",
      "text/plain": [
       "<Figure size 640x480 with 1 Axes>"
      ]
     },
     "metadata": {},
     "output_type": "display_data"
    }
   ],
   "source": [
    "# Draw a graph\n",
    "# Start with a scree plot to see how many PCs should go into the final plot\n",
    "per_var = np.round(pca.explained_variance_ratio_*100, decimals=1)\n",
    "labels = ['PC' + str(x) for x in range(1, len(per_var)+1)]\n",
    "\n",
    "plt.bar(x=range(1, len(per_var)+1), height=per_var, tick_label=labels)\n",
    "plt.ylabel('Percentage pf Explained Variance')\n",
    "plt.xlabel('Principal Component')\n",
    "plt.title('Scree Plot')\n",
    "plt.show"
   ]
  },
  {
   "cell_type": "code",
   "execution_count": 6,
   "metadata": {},
   "outputs": [
    {
     "data": {
      "image/png": "[encoded data removed]",
      "text/plain": [
       "<Figure size 640x480 with 1 Axes>"
      ]
     },
     "metadata": {},
     "output_type": "display_data"
    }
   ],
   "source": [
    "# Draw a PCA plot\n",
    "# Put the new coordinates, created by pca.transform(scaled.data), into a matrix\n",
    "pca_df = pd.DataFrame(pca_data, index=[*wt, *ko], columns=labels)\n",
    " \n",
    "plt.scatter(pca_df.PC1, pca_df.PC2)\n",
    "plt.title('My PCA Graph')\n",
    "plt.xlabel('PC1 - {0}%'.format(per_var[0]))\n",
    "plt.ylabel('PC2 - {0}%'.format(per_var[1]))\n",
    " \n",
    "for sample in pca_df.index:\n",
    "    plt.annotate(sample, (pca_df.PC1.loc[sample], pca_df.PC2.loc[sample]))\n",
    " \n",
    "plt.show()"
   ]
  },
  {
   "cell_type": "markdown",
   "metadata": {},
   "source": [
    "<h4>The \"wt\" samples clustered on the left side, suggesting that they are correlated with each other</h4>\n",
    "<h4>The \"ko\" samples clustered on the right side, suggesting that they are correlated with each other</h4>\n",
    "<h4>And the separation of the two clusters along the x-axis suggests that \"wt\" samples are very different from \"ko\" samples</h4>"
   ]
  },
  {
   "cell_type": "code",
   "execution_count": 7,
   "metadata": {},
   "outputs": [
    {
     "name": "stdout",
     "output_type": "stream",
     "text": [
      "gene11    -0.105173\n",
      "gene24    -0.105156\n",
      "gene89    -0.105131\n",
      "gene76    -0.105098\n",
      "gene52    -0.105087\n",
      "gene38    -0.105081\n",
      "gene100    0.105074\n",
      "gene97    -0.105071\n",
      "gene67    -0.105069\n",
      "gene13    -0.105058\n",
      "dtype: float64\n"
     ]
    }
   ],
   "source": [
    "# Determine which genes had the biggest influence on PC1\n",
    "# get the name of the top 10 measurements (genes) that contribute\n",
    "\n",
    "# first, get the loading scores\n",
    "loading_scores = pd.Series(pca.components_[0], index=genes)\n",
    "\n",
    "# now sort the loading scores based on their magnitude\n",
    "sorted_loading_scores = loading_scores.abs().sort_values(ascending=False)\n",
    "\n",
    "# get the names of the top 10 genes\n",
    "top_10_genes = sorted_loading_scores[0:10].index.values\n",
    " \n",
    "# print the gene names and their scores (and +/- sign)\n",
    "print(loading_scores[top_10_genes])"
   ]
  },
  {
   "cell_type": "markdown",
   "metadata": {},
   "source": [
    "<h4>These values are similar, so a lot of genes played a role in separating the samples, rather than just 1 or 2</h4>"
   ]
  }
 ],
 "metadata": {
  "kernelspec": {
   "display_name": "Python 3",
   "language": "python",
   "name": "python3"
  },
  "language_info": {
   "codemirror_mode": {
    "name": "ipython",
    "version": 3
   },
   "file_extension": ".py",
   "mimetype": "text/x-python",
   "name": "python",
   "nbconvert_exporter": "python",
   "pygments_lexer": "ipython3",
   "version": "3.12.0"
  }
 },
 "nbformat": 4,
 "nbformat_minor": 2
}
