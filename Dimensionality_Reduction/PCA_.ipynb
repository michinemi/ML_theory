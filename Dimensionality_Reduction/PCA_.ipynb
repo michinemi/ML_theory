{
 "cells": [
  {
   "cell_type": "code",
   "execution_count": 15,
   "metadata": {},
   "outputs": [],
   "source": [
    "import pandas as pd\n",
    "import numpy as np\n",
    "import random as rd\n",
    "from sklearn.decomposition import PCA\n",
    "from sklearn import preprocessing\n",
    "import matplotlib.pyplot as plt"
   ]
  },
  {
   "cell_type": "code",
   "execution_count": 16,
   "metadata": {},
   "outputs": [
    {
     "data": {
      "text/html": [
       "<div>\n",
       "<style scoped>\n",
       "    .dataframe tbody tr th:only-of-type {\n",
       "        vertical-align: middle;\n",
       "    }\n",
       "\n",
       "    .dataframe tbody tr th {\n",
       "        vertical-align: top;\n",
       "    }\n",
       "\n",
       "    .dataframe thead th {\n",
       "        text-align: right;\n",
       "    }\n",
       "</style>\n",
       "<table border=\"1\" class=\"dataframe\">\n",
       "  <thead>\n",
       "    <tr style=\"text-align: right;\">\n",
       "      <th></th>\n",
       "      <th>wt1</th>\n",
       "      <th>wt2</th>\n",
       "      <th>wt3</th>\n",
       "      <th>wt4</th>\n",
       "      <th>wt5</th>\n",
       "      <th>ko1</th>\n",
       "      <th>ko2</th>\n",
       "      <th>ko3</th>\n",
       "      <th>ko4</th>\n",
       "      <th>ko5</th>\n",
       "    </tr>\n",
       "  </thead>\n",
       "  <tbody>\n",
       "    <tr>\n",
       "      <th>gene1</th>\n",
       "      <td>830</td>\n",
       "      <td>903</td>\n",
       "      <td>843</td>\n",
       "      <td>876</td>\n",
       "      <td>884</td>\n",
       "      <td>211</td>\n",
       "      <td>209</td>\n",
       "      <td>180</td>\n",
       "      <td>220</td>\n",
       "      <td>213</td>\n",
       "    </tr>\n",
       "    <tr>\n",
       "      <th>gene2</th>\n",
       "      <td>907</td>\n",
       "      <td>885</td>\n",
       "      <td>898</td>\n",
       "      <td>885</td>\n",
       "      <td>897</td>\n",
       "      <td>59</td>\n",
       "      <td>52</td>\n",
       "      <td>55</td>\n",
       "      <td>65</td>\n",
       "      <td>64</td>\n",
       "    </tr>\n",
       "    <tr>\n",
       "      <th>gene3</th>\n",
       "      <td>685</td>\n",
       "      <td>674</td>\n",
       "      <td>665</td>\n",
       "      <td>666</td>\n",
       "      <td>706</td>\n",
       "      <td>205</td>\n",
       "      <td>186</td>\n",
       "      <td>199</td>\n",
       "      <td>213</td>\n",
       "      <td>186</td>\n",
       "    </tr>\n",
       "    <tr>\n",
       "      <th>gene4</th>\n",
       "      <td>614</td>\n",
       "      <td>625</td>\n",
       "      <td>621</td>\n",
       "      <td>654</td>\n",
       "      <td>630</td>\n",
       "      <td>611</td>\n",
       "      <td>632</td>\n",
       "      <td>644</td>\n",
       "      <td>635</td>\n",
       "      <td>642</td>\n",
       "    </tr>\n",
       "    <tr>\n",
       "      <th>gene5</th>\n",
       "      <td>348</td>\n",
       "      <td>286</td>\n",
       "      <td>320</td>\n",
       "      <td>306</td>\n",
       "      <td>316</td>\n",
       "      <td>867</td>\n",
       "      <td>866</td>\n",
       "      <td>825</td>\n",
       "      <td>829</td>\n",
       "      <td>844</td>\n",
       "    </tr>\n",
       "    <tr>\n",
       "      <th>...</th>\n",
       "      <td>...</td>\n",
       "      <td>...</td>\n",
       "      <td>...</td>\n",
       "      <td>...</td>\n",
       "      <td>...</td>\n",
       "      <td>...</td>\n",
       "      <td>...</td>\n",
       "      <td>...</td>\n",
       "      <td>...</td>\n",
       "      <td>...</td>\n",
       "    </tr>\n",
       "    <tr>\n",
       "      <th>gene96</th>\n",
       "      <td>953</td>\n",
       "      <td>994</td>\n",
       "      <td>1005</td>\n",
       "      <td>985</td>\n",
       "      <td>954</td>\n",
       "      <td>924</td>\n",
       "      <td>925</td>\n",
       "      <td>895</td>\n",
       "      <td>949</td>\n",
       "      <td>939</td>\n",
       "    </tr>\n",
       "    <tr>\n",
       "      <th>gene97</th>\n",
       "      <td>434</td>\n",
       "      <td>402</td>\n",
       "      <td>437</td>\n",
       "      <td>424</td>\n",
       "      <td>402</td>\n",
       "      <td>723</td>\n",
       "      <td>676</td>\n",
       "      <td>706</td>\n",
       "      <td>696</td>\n",
       "      <td>678</td>\n",
       "    </tr>\n",
       "    <tr>\n",
       "      <th>gene98</th>\n",
       "      <td>799</td>\n",
       "      <td>818</td>\n",
       "      <td>775</td>\n",
       "      <td>787</td>\n",
       "      <td>730</td>\n",
       "      <td>142</td>\n",
       "      <td>139</td>\n",
       "      <td>146</td>\n",
       "      <td>139</td>\n",
       "      <td>159</td>\n",
       "    </tr>\n",
       "    <tr>\n",
       "      <th>gene99</th>\n",
       "      <td>84</td>\n",
       "      <td>67</td>\n",
       "      <td>62</td>\n",
       "      <td>62</td>\n",
       "      <td>64</td>\n",
       "      <td>81</td>\n",
       "      <td>79</td>\n",
       "      <td>89</td>\n",
       "      <td>76</td>\n",
       "      <td>94</td>\n",
       "    </tr>\n",
       "    <tr>\n",
       "      <th>gene100</th>\n",
       "      <td>61</td>\n",
       "      <td>85</td>\n",
       "      <td>77</td>\n",
       "      <td>74</td>\n",
       "      <td>79</td>\n",
       "      <td>263</td>\n",
       "      <td>237</td>\n",
       "      <td>244</td>\n",
       "      <td>240</td>\n",
       "      <td>223</td>\n",
       "    </tr>\n",
       "  </tbody>\n",
       "</table>\n",
       "<p>100 rows × 10 columns</p>\n",
       "</div>"
      ],
      "text/plain": [
       "         wt1  wt2   wt3  wt4  wt5  ko1  ko2  ko3  ko4  ko5\n",
       "gene1    830  903   843  876  884  211  209  180  220  213\n",
       "gene2    907  885   898  885  897   59   52   55   65   64\n",
       "gene3    685  674   665  666  706  205  186  199  213  186\n",
       "gene4    614  625   621  654  630  611  632  644  635  642\n",
       "gene5    348  286   320  306  316  867  866  825  829  844\n",
       "...      ...  ...   ...  ...  ...  ...  ...  ...  ...  ...\n",
       "gene96   953  994  1005  985  954  924  925  895  949  939\n",
       "gene97   434  402   437  424  402  723  676  706  696  678\n",
       "gene98   799  818   775  787  730  142  139  146  139  159\n",
       "gene99    84   67    62   62   64   81   79   89   76   94\n",
       "gene100   61   85    77   74   79  263  237  244  240  223\n",
       "\n",
       "[100 rows x 10 columns]"
      ]
     },
     "execution_count": 16,
     "metadata": {},
     "output_type": "execute_result"
    }
   ],
   "source": [
    "# Generate a sample dataset\n",
    "# genes\n",
    "genes = ['gene' + str(i) for i in range(1,101)]\n",
    "wt = ['wt' + str(i) for i in range(1,6)]\n",
    "ko = ['ko' + str(i) for i in range(1,6)]\n",
    "data = pd.DataFrame(columns=[*wt, *ko], index=genes)\n",
    "\n",
    "for gene in data.index:\n",
    "    data.loc[gene, 'wt1':'wt5'] = np.random.poisson(lam=rd.randrange(10,1000), size=5)\n",
    "    data.loc[gene, 'ko1':'ko5'] = np.random.poisson(lam=rd.randrange(10,1000), size=5)\n",
    "\n",
    "data"
   ]
  },
  {
   "cell_type": "code",
   "execution_count": 17,
   "metadata": {},
   "outputs": [],
   "source": [
    "# Preprocess data\n",
    "scaled_data = preprocessing.scale(data.T)\n",
    "# OR StandardScaler().fit_transform(data.T)"
   ]
  },
  {
   "cell_type": "code",
   "execution_count": 18,
   "metadata": {},
   "outputs": [],
   "source": [
    "# Create a PCA object\n",
    "pca = PCA()\n",
    "\n",
    "# This is where we do all the PCA math (calculate loading scores and the variation each PC accounts for)\n",
    "pca.fit(scaled_data)\n",
    "\n",
    "# This is where we generate coordinates for a PCA graph based on the loading scores and the scaled data\n",
    "pca_data = pca.transform(scaled_data)"
   ]
  },
  {
   "cell_type": "code",
   "execution_count": 19,
   "metadata": {},
   "outputs": [
    {
     "data": {
      "text/plain": [
       "<function matplotlib.pyplot.show(close=None, block=None)>"
      ]
     },
     "execution_count": 19,
     "metadata": {},
     "output_type": "execute_result"
    },
    {
     "data": {
      "image/png": "[encoded data removed]",
      "text/plain": [
       "<Figure size 640x480 with 1 Axes>"
      ]
     },
     "metadata": {},
     "output_type": "display_data"
    }
   ],
   "source": [
    "# Draw a graph\n",
    "# Start with a scree plot to see how many PCs should go into the final plot\n",
    "per_var = np.round(pca.explained_variance_ratio_*100, decimals=1)\n",
    "labels = ['PC' + str(x) for x in range(1, len(per_var)+1)]\n",
    "\n",
    "plt.bar(x=range(1, len(per_var)+1), height=per_var, tick_label=labels)\n",
    "plt.ylabel('Percentage pf Explained Variance')\n",
    "plt.xlabel('Principal Component')\n",
    "plt.title('Scree Plot')\n",
    "plt.show"
   ]
  },
  {
   "cell_type": "code",
   "execution_count": 20,
   "metadata": {},
   "outputs": [
    {
     "data": {
      "image/png": "[encoded data removed]",
      "text/plain": [
       "<Figure size 640x480 with 1 Axes>"
      ]
     },
     "metadata": {},
     "output_type": "display_data"
    }
   ],
   "source": [
    "# Draw a PCA plot\n",
    "# Put the new coordinates, created by pca.transform(scaled.data), into a matrix\n",
    "pca_df = pd.DataFrame(pca_data, index=[*wt, *ko], columns=labels)\n",
    " \n",
    "plt.scatter(pca_df.PC1, pca_df.PC2)\n",
    "plt.title('My PCA Graph')\n",
    "plt.xlabel('PC1 - {0}%'.format(per_var[0]))\n",
    "plt.ylabel('PC2 - {0}%'.format(per_var[1]))\n",
    " \n",
    "for sample in pca_df.index:\n",
    "    plt.annotate(sample, (pca_df.PC1.loc[sample], pca_df.PC2.loc[sample]))\n",
    " \n",
    "plt.show()"
   ]
  },
  {
   "cell_type": "markdown",
   "metadata": {},
   "source": [
    "<h4>The \"wt\" samples clustered on the left side, suggesting that they are correlated with each other</h4>\n",
    "<h4>The \"ko\" samples clustered on the right side, suggesting that they are correlated with each other</h4>\n",
    "<h4>And the separation of the two clusters along the x-axis suggests that \"wt\" samples are very different from \"ko\" samples</h4>"
   ]
  },
  {
   "cell_type": "code",
   "execution_count": 21,
   "metadata": {},
   "outputs": [
    {
     "name": "stdout",
     "output_type": "stream",
     "text": [
      "gene69    0.105233\n",
      "gene2    -0.105225\n",
      "gene46   -0.105225\n",
      "gene53   -0.105196\n",
      "gene24    0.105185\n",
      "gene11    0.105181\n",
      "gene26   -0.105173\n",
      "gene59    0.105168\n",
      "gene22    0.105160\n",
      "gene72    0.105152\n",
      "dtype: float64\n"
     ]
    }
   ],
   "source": [
    "# Determine which genes had the biggest influence on PC1\n",
    "# get the name of the top 10 measurements (genes) that contribute\n",
    "\n",
    "# first, get the loading scores\n",
    "loading_scores = pd.Series(pca.components_[0], index=genes)\n",
    "\n",
    "# now sort the loading scores based on their magnitude\n",
    "sorted_loading_scores = loading_scores.abs().sort_values(ascending=False)\n",
    "\n",
    "# get the names of the top 10 genes\n",
    "top_10_genes = sorted_loading_scores[0:10].index.values\n",
    " \n",
    "# print the gene names and their scores (and +/- sign)\n",
    "print(loading_scores[top_10_genes])"
   ]
  },
  {
   "cell_type": "markdown",
   "metadata": {},
   "source": [
    "<h4>These values are similar, so a lot of genes played a role in separating the samples, rather than just 1 or 2</h4>"
   ]
  }
 ],
 "metadata": {
  "kernelspec": {
   "display_name": "Python 3",
   "language": "python",
   "name": "python3"
  },
  "language_info": {
   "codemirror_mode": {
    "name": "ipython",
    "version": 3
   },
   "file_extension": ".py",
   "mimetype": "text/x-python",
   "name": "python",
   "nbconvert_exporter": "python",
   "pygments_lexer": "ipython3",
   "version": "3.12.0"
  }
 },
 "nbformat": 4,
 "nbformat_minor": 2
}
